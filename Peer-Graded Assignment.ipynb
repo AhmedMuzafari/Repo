{
 "cells": [
  {
   "cell_type": "markdown",
   "metadata": {},
   "source": [
    "<center>\n",
    "    <img src=\"https://cf-courses-data.s3.us.cloud-object-storage.appdomain.cloud/IBMDeveloperSkillsNetwork-DS0105EN-SkillsNetwork/labs/Module2/images/SN_web_lightmode.png\" width=\"300\" alt=\"cognitiveclass.ai logo\">\n",
    "</center>\n"
   ]
  },
  {
   "cell_type": "markdown",
   "metadata": {},
   "source": [
    "#### Add your code below following the instructions given in the course\n"
   ]
  },
  {
   "cell_type": "markdown",
   "metadata": {
    "tags": []
   },
   "source": [
    "# __Peer-Graded Assignment__"
   ]
  },
  {
   "cell_type": "markdown",
   "metadata": {},
   "source": [
    "### *Introduction*\n",
    "###### Leveraging JupyterLite Notebook, a set of instructions will be carried out as outlined in the course. I will be creating and sharing this notebook via a public GitHub link."
   ]
  },
  {
   "cell_type": "markdown",
   "metadata": {},
   "source": [
    "## List of Data Science Languages\n",
    "- Python\n",
    "- SQL\n",
    "- Scala\n",
    "- Apache\n",
    "- R\n",
    "- C++\n",
    "- Juliet"
   ]
  },
  {
   "cell_type": "markdown",
   "metadata": {},
   "source": [
    "## List of Data Science Libraries\n",
    "- Scikit-Learn\n",
    "- PixieDust\n",
    "- ggplot\n",
    "- Pandas\n",
    "- Pytorch\n",
    "- NumPy\n",
    "- Tensor Flow"
   ]
  },
  {
   "cell_type": "markdown",
   "metadata": {},
   "source": [
    "## Table of Data Science Tools\n",
    "\n",
    "|Data Science Tools|\n",
    "|------------------|\n",
    "|Python|\n",
    "|R|\n",
    "|TensorFlow|\n",
    "|Apache Spark|\n",
    "|Tableau|"
   ]
  },
  {
   "cell_type": "markdown",
   "metadata": {},
   "source": [
    "## __Introduction of Arithmetic expression__\n",
    "\n",
    "#### *Examples:*\n",
    "\n",
    "- (20+5)*10\n",
    "- (10+5)*3\n",
    "- (102+78)*6"
   ]
  },
  {
   "cell_type": "code",
   "execution_count": 4,
   "metadata": {
    "tags": []
   },
   "outputs": [
    {
     "data": {
      "text/plain": [
       "250"
      ]
     },
     "execution_count": 4,
     "metadata": {},
     "output_type": "execute_result"
    }
   ],
   "source": [
    "(20+5)*10"
   ]
  },
  {
   "cell_type": "code",
   "execution_count": 5,
   "metadata": {
    "tags": []
   },
   "outputs": [
    {
     "data": {
      "text/plain": [
       "45"
      ]
     },
     "execution_count": 5,
     "metadata": {},
     "output_type": "execute_result"
    }
   ],
   "source": [
    "(10+5)*3"
   ]
  },
  {
   "cell_type": "code",
   "execution_count": 6,
   "metadata": {
    "tags": []
   },
   "outputs": [
    {
     "data": {
      "text/plain": [
       "1080"
      ]
     },
     "execution_count": 6,
     "metadata": {},
     "output_type": "execute_result"
    }
   ],
   "source": [
    "(102+78)*6"
   ]
  },
  {
   "cell_type": "code",
   "execution_count": null,
   "metadata": {
    "tags": []
   },
   "outputs": [
    {
     "name": "stdout",
     "output_type": "stream",
     "text": [
      "Choose an option:\n",
      "1. Convert minutes to hours\n",
      "2. Convert hours to minutes\n",
      "3. Quit\n"
     ]
    },
    {
     "name": "stdin",
     "output_type": "stream",
     "text": [
      "Enter your choice (1/2/3):  1\n",
      "Enter the number of minutes:  38\n"
     ]
    },
    {
     "name": "stdout",
     "output_type": "stream",
     "text": [
      "38.0 minutes is equal to 0.6333333333333333 hours.\n",
      "\n",
      "Choose an option:\n",
      "1. Convert minutes to hours\n",
      "2. Convert hours to minutes\n",
      "3. Quit\n"
     ]
    }
   ],
   "source": [
    "def minutes_to_hours(minutes):\n",
    "    hours = minutes / 60\n",
    "    return hours\n",
    "\n",
    "def hours_to_minutes(hours):\n",
    "    minutes = hours * 60\n",
    "    return minutes\n",
    "\n",
    "while True:\n",
    "    print(\"Choose an option:\")\n",
    "    print(\"1. Convert minutes to hours\")\n",
    "    print(\"2. Convert hours to minutes\")\n",
    "    print(\"3. Quit\")\n",
    "\n",
    "    choice = input(\"Enter your choice (1/2/3): \")\n",
    "\n",
    "    if choice == '1':\n",
    "        minutes = float(input(\"Enter the number of minutes: \"))\n",
    "        hours = minutes_to_hours(minutes)\n",
    "        print(f\"{minutes} minutes is equal to {hours} hours.\\n\")\n",
    "    elif choice == '2':\n",
    "        hours = float(input(\"Enter the number of hours: \"))\n",
    "        minutes = hours_to_minutes(hours)\n",
    "        print(f\"{hours} hours is equal to {minutes} minutes.\\n\")\n",
    "    elif choice == '3':\n",
    "        print(\"Goodbye!\")\n",
    "        break\n",
    "    else:\n",
    "        print(\"Invalid choice. Please enter 1, 2, or 3.\\n\")\n"
   ]
  },
  {
   "cell_type": "markdown",
   "metadata": {},
   "source": [
    "## List of Objectives\n",
    "\n",
    "The objective of the above caulcation of minutes to hours and hours to minutes is to convert time depedning on user request. Below are a few options:\n",
    "\n",
    "- Convert Minutes to Hours\n",
    "- Convert Hours to Minutes\n",
    "- Quit"
   ]
  },
  {
   "cell_type": "markdown",
   "metadata": {},
   "source": [
    "# Author\n",
    "\n",
    "- Ahmed Adel"
   ]
  }
 ],
 "metadata": {
  "kernelspec": {
   "display_name": "Python",
   "language": "python",
   "name": "conda-env-python-py"
  },
  "language_info": {
   "codemirror_mode": {
    "name": "ipython",
    "version": 3
   },
   "file_extension": ".py",
   "mimetype": "text/x-python",
   "name": "python",
   "nbconvert_exporter": "python",
   "pygments_lexer": "ipython3",
   "version": "3.7.12"
  }
 },
 "nbformat": 4,
 "nbformat_minor": 4
}
